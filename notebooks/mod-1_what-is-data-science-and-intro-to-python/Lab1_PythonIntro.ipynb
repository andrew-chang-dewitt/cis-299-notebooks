{
 "cells": [
  {
   "cell_type": "markdown",
   "id": "a06e7973",
   "metadata": {},
   "source": [
    "\n",
    "# Notebook 1: Seeing the Problem as Data\n",
    "\n",
    "\n",
    "## 1.1: What is Data?\n",
    "\n",
    "Like the word **information**, **data** is such a general word that it refers to lots of things.\n",
    "\n",
    "In this workshop, we’ll focus on data as something **collected** or **recorded** about the **real world**, to better observe and understand the world. \n",
    "\n",
    "\n",
    "### Data in the real world\n",
    "Data can be found all around our daily lives. Data about weather is collected by weather stations and used by meteorologists to determine weather outcomes. Data about your Netflix viewing history can be used by Netflix's algorithms to recommend new movies and shows that better match your interests. \n",
    "\n",
    "<br>\n",
    "\n",
    "<table><tr>\n",
    "    <td> <img src=\"imgs/netflix-image.jpeg\" alt=\"Drawing\" style=\"width: 400px;\"/> </td>\n",
    "    <td> <img src=\"imgs/weather-image.jpeg\" alt=\"Drawing\" style=\"width: 400px;\"/> </td>\n",
    "</tr></table>\n",
    "\n",
    "<br>\n",
    "\n",
    "<img src=\"imgs/pencil.png\" alt=\"Drawing\" align=left style=\"width: 20px;\"/> <font size=4> **Journal 1a:** Data in YOUR world </font>\n",
    "\n",
    "**Give an example of data in your daily life, e.g. data that you collect or that’s collected about you. Explain where it comes from, how it's collected/recorded, and for what it's used.** \n",
    "\n",
    "> I collect data about my activity levels and some vital signs every day all day with my smart watch. It comes from a variety of sensors in the device, which then records it to my phone & uploads it to the application's web service. I use it to encourage healthier habits for myself, such as better sleep patterns, making choices that increase activity levels (biking or walking instead of driving), & standing more throughout the day. Additionally, it gives me insight to changing trends in vital signs such as my resting heart rate or blood oxygen levels.\n"
   ]
  },
  {
   "cell_type": "markdown",
   "id": "c19a8767",
   "metadata": {},
   "source": [
    "### Data from the 1854 London cholera outbreak\n",
    "\n",
    "Cholera is a disease that we now know how to treat but before this treatment was discovered, only 1 in 2 infected people had a chance to survive. At that time, in mid-19th century London, doctors, health inspectors, pastors and many others desperately tried to find the cause of cholera to stop people from dying. One of them was **John Snow**, a physician who started recording the following information about London households:\n",
    "\n",
    "![](imgs/img-ledger.png)\n",
    "\n",
    "<!-- As you can see, there are data about the following (in order):\n",
    "- House number\n",
    "- Neighborhood\n",
    "- Occupation\n",
    "- Age\n",
    "- Symptoms\n",
    "- Water Supplier -->\n",
    "\n",
    "<img src=\"imgs/pencil.png\" alt=\"Drawing\" align=left style=\"width: 20px;\"/> <font size=4>**Journal 1b:** Taking inventory: what do we have?</font>\n",
    "\n",
    "**Describe the data you see in John Snow's notes (the photo). What types of data are present? Are there other types of data you would want to collect if you were trying to find out how cholera is transmitted?** \n",
    "\n",
    "> - location\n",
    "> - daily activities (occupation)\n",
    "> - demographics (age)\n",
    "> - presenting concerns (symptoms)\n",
    "> - possible source of infection (water supplier)\n",
    "\n",
    "**Now we will embark on our own journey to trace the origins of the Cholera epidemic, but instead by using a 21st century data science toolkit!**\n",
    "<br><br>\n",
    "In the next cell, please add your information to get started! \n",
    "<br><br>"
   ]
  },
  {
   "cell_type": "code",
   "execution_count": 2,
   "id": "c45b5fbc",
   "metadata": {},
   "outputs": [
    {
     "name": "stdout",
     "output_type": "stream",
     "text": [
      ">>> Hello world, my name is Andrew Chang-DeWitt!\n"
     ]
    }
   ],
   "source": [
    "# Change this to be your name! \n",
    "first_name = \"Andrew\"\n",
    "last_name = \"Chang-DeWitt\"\n",
    "\n",
    "# print is the simplest Python function -- it allows us to view our data! \n",
    "print(f\">>> Hello world, my name is {first_name} {last_name}!\")"
   ]
  },
  {
   "cell_type": "markdown",
   "id": "743538b9",
   "metadata": {},
   "source": [
    "## 1.2: Representing Data on the Computer\n",
    "\n",
    "In this **Jupyter notebook**, we will begin our data science journey via the **Python programming language**. \n",
    "\n",
    "<img src=\"imgs/python-image.png\" alt=\"Drawing\" style=\"width: 400px;\"/>\n",
    "\n",
    "\n",
    "**By the end of this notebook, you should be able to**: \n",
    "- Represent data from the real world in Python\n",
    "- See how data are stored, grouped, and organized for data science\n",
    "- Understand and manipulate variables and lists\n",
    "<br><br>\n",
    "\n",
    "**Data representation in Python**\n",
    "The following contains some of the data from above represented in Python code. All of the *{}* and *:* symbols aside, this should map somehow to John Snow's notes shown above. "
   ]
  },
  {
   "cell_type": "code",
   "execution_count": 22,
   "id": "246e95fa",
   "metadata": {},
   "outputs": [
    {
     "name": "stdout",
     "output_type": "stream",
     "text": [
      "Our list of people: [{'house_number': 7, 'neighborhood': \"Layton's Buildings\", 'date': 'July 29', 'occupation': 'tailor', 'age': 20, 'symptoms': 'cholera 17 hours', 'water_supplier': 'Southwark & Vauxhall'}, {'house_number': 2, 'neighborhood': \"Dobb's Cross\", 'date': 'July 30', 'occupation': 'son of a shop-keeper', 'age': 10, 'symptoms': 'cholera Asiatic 24 hours', 'water_supplier': 'Southwark & Vauxhall'}, {'house_number': 81, 'neighborhood': 'Ann Street', 'date': 'July 29', 'occupation': 'son of a labourer', 'age': 12, 'symptoms': 'cholera 8 hours', 'water_supplier': 'Southwark & Vauxhall'}]\n"
     ]
    }
   ],
   "source": [
    "\n",
    "person_0 = {\"house_number\": 7, \n",
    "            \"neighborhood\": \"Layton's Buildings\",\n",
    "            \"date\": \"July 29\", \n",
    "            \"occupation\": \"tailor\",\n",
    "            \"age\": 20, \n",
    "            \"symptoms\": \"cholera 17 hours\",\n",
    "            \"water_supplier\": \"Southwark & Vauxhall\"}\n",
    "\n",
    "person_1 = {\"house_number\": 2, \n",
    "            \"neighborhood\": \"Dobb's Cross\",\n",
    "            \"date\": \"July 30\", \n",
    "            \"occupation\": \"son of a shop-keeper\",\n",
    "            \"age\": 10, \n",
    "            \"symptoms\": \"cholera Asiatic 24 hours\",\n",
    "            \"water_supplier\": \"Southwark & Vauxhall\"}\n",
    "\n",
    "person_2 = {\"house_number\": 81, \n",
    "            \"neighborhood\": \"Ann Street\",\n",
    "            \"date\": \"July 29\", \n",
    "            \"occupation\": \"son of a labourer\",\n",
    "            \"age\": 12, \n",
    "            \"symptoms\": \"cholera 8 hours\",\n",
    "            \"water_supplier\": \"Southwark & Vauxhall\"}\n",
    "\n",
    "# We can 'group' all of these data together by using a 'list'!\n",
    "people_list = [person_0, person_1, person_2]\n",
    "print(f\"Our list of people: {people_list}\")\n"
   ]
  },
  {
   "cell_type": "markdown",
   "id": "1225e05d",
   "metadata": {},
   "source": [
    "## 1.3: Let's *slow down* and smell the... data types?\n",
    "\n",
    "So now we beg the question... ***what was actually going on in the previous code?***\n",
    "\n",
    "In this section, we are going to see if we can understand the basic units of Python data storage: \n",
    "- types\n",
    "- variables\n",
    "\n",
    "\n",
    "--------------\n",
    "There are several **types** in Python that can be used to represent data values. I outline a handful of types in the following:\n",
    "\n",
    "\n",
    "| Type | Description | Examples |\n",
    "| :-- | :-- | :-- |\n",
    "| String ('str') | A sequence of characters; stored within \"\" or '' | \"cat\", 'London', \"27\" |\n",
    "| Integer ('int')| Whole positive or negative numbers *without* decimal points | -50, 0, 27 |\n",
    "| Float ('float') | Real numbers that *can* have multiple decimal points | -50.0, 0.75, 3.14159 |\n",
    "\n",
    "<br><br>\n",
    "We can see the type of data in Python by using the `type()` function as shown in the following cell: "
   ]
  },
  {
   "cell_type": "code",
   "execution_count": 23,
   "id": "f8365798",
   "metadata": {},
   "outputs": [
    {
     "name": "stdout",
     "output_type": "stream",
     "text": [
      "<class 'str'>\n",
      "<class 'int'>\n",
      "<class 'str'>\n",
      "<class 'float'>\n"
     ]
    }
   ],
   "source": [
    "# Types\n",
    "print(type('London'))\n",
    "print(type(37))\n",
    "print(type(\"37\"))\n",
    "print(type(37.0))"
   ]
  },
  {
   "cell_type": "markdown",
   "id": "3cc55318",
   "metadata": {},
   "source": [
    "<img src=\"imgs/pencil.png\" alt=\"Drawing\" align=left style=\"width: 20px;\"/> <font size=\"4\">**Journal 1c:** Learning about types!</font>\n",
    "\n",
    "**In the following cell, write some example lines that answer the following questions:**\n",
    "\n",
    "c1. **What is the type of a string that uses '' instead of \"\"?**\n",
    "> `<class 'str'>`\n",
    "\n",
    "c2. **What is the type of \"0.5\"?**\n",
    "> `<class 'float'>`\n",
    "\n",
    "c3. **What happens if we turn \"London\" into London (no quotes) and try to run the cell?**\n",
    "> ```\n",
    "> ---------------------------------------------------------------------------\n",
    "> NameError                                 Traceback (most recent call last)\n",
    "> Cell In[4], line 3\n",
    ">       1 print(type(\"test\"))\n",
    ">       2 print(type(0.5))\n",
    "> ----> 3 London\n",
    "> \n",
    "> NameError: name 'London' is not defined\n",
    "> ```"
   ]
  },
  {
   "cell_type": "code",
   "execution_count": 5,
   "id": "4ff398eb",
   "metadata": {},
   "outputs": [
    {
     "name": "stdout",
     "output_type": "stream",
     "text": [
      "<class 'str'>\n",
      "<class 'float'>\n"
     ]
    },
    {
     "ename": "NameError",
     "evalue": "name 'London' is not defined",
     "output_type": "error",
     "traceback": [
      "\u001b[0;31m---------------------------------------------------------------------------\u001b[0m",
      "\u001b[0;31mNameError\u001b[0m                                 Traceback (most recent call last)",
      "Cell \u001b[0;32mIn[5], line 8\u001b[0m\n\u001b[1;32m      5\u001b[0m \u001b[38;5;28mprint\u001b[39m(\u001b[38;5;28mtype\u001b[39m(\u001b[38;5;241m0.5\u001b[39m))\n\u001b[1;32m      7\u001b[0m \u001b[38;5;66;03m# Example for c3 here!\u001b[39;00m\n\u001b[0;32m----> 8\u001b[0m \u001b[43mLondon\u001b[49m\n",
      "\u001b[0;31mNameError\u001b[0m: name 'London' is not defined"
     ]
    }
   ],
   "source": [
    "# Example for c1 here!\n",
    "print(type(\"test\"))\n",
    "\n",
    "# Example for c2 here! \n",
    "print(type(0.5))\n",
    "\n",
    "# Example for c3 here!\n",
    "London"
   ]
  },
  {
   "cell_type": "markdown",
   "id": "466fcfe9",
   "metadata": {},
   "source": [
    "A **variable** is a Python storage container for a **single type** of data. For instance, in algebra class, you might be familiar with math equations like the following:  \n",
    "\n",
    "$2x=50$\n",
    "\n",
    "... where **$x$** is an **integer variable** that represents some value ***(which is???)***. \n",
    "\n",
    "In Python, we can set variables to be almost anything that we want. Earlier in this notebook, for instance, we used two string variables to represent your first and last names using two string variables: \n",
    "```\n",
    "first_name = \"John\"\n",
    "last_name = \"Snow\"\n",
    "```\n",
    "\n",
    "### Coding Exercise: \n",
    "Create variables (of appropriate types!) that suit the following prompts. Print their values at the end of the cell!"
   ]
  },
  {
   "cell_type": "code",
   "execution_count": 33,
   "id": "9bd168a7",
   "metadata": {},
   "outputs": [
    {
     "name": "stdout",
     "output_type": "stream",
     "text": [
      "60647\n",
      "<class 'int'>\n",
      "Indiana University, Bloomington\n",
      "<class 'str'>\n",
      "0.83\n",
      "<class 'float'>\n"
     ]
    }
   ],
   "source": [
    "import random\n",
    "\n",
    "# Your ZIP code. \n",
    "zip: int = 60647\n",
    "\n",
    "# Your dream college.\n",
    "college: str = \"Indiana University, Bloomington\"\n",
    "\n",
    "# Your GPA.\n",
    "gpa: float = random.randrange(0, 400)/100\n",
    "\n",
    "# ... Now use the print() command on all 3 variables to see their values!\n",
    "print(zip)\n",
    "print(type(zip))\n",
    "print(college)\n",
    "print(type(college))\n",
    "print(gpa)\n",
    "print(type(gpa))"
   ]
  },
  {
   "cell_type": "markdown",
   "id": "c28cd35b",
   "metadata": {},
   "source": [
    "<img src=\"imgs/pencil.png\" alt=\"Drawing\" align=left style=\"width: 20px;\"/>  <font size=\"4\">**Journal 1d:** Variables</font>\n",
    "\n",
    "**Why did you choose the 'type' you did for each variable?**\n",
    "\n",
    "> Write your answer for ZIP code here!\n",
    "\n",
    "Integer, because a zip code is most simply an integer. Ideally it'd have a special type that validates both the number of digits (as 5 or 9 for the short and long forms) & that it is an existing zip code by checking against the list of possible values from USPS (someone's probably written a library for this already).\n",
    "\n",
    "> Write your answer for dream college here!\n",
    "\n",
    "String, because a name is just a string.\n",
    "\n",
    "> Write your answer for GPA here!\n",
    "\n",
    "A float, because it can represent fractional numbers."
   ]
  }
 ],
 "metadata": {
  "kernelspec": {
   "display_name": "Python 3 (ipykernel)",
   "language": "python",
   "name": "python3"
  },
  "language_info": {
   "codemirror_mode": {
    "name": "ipython",
    "version": 3
   },
   "file_extension": ".py",
   "mimetype": "text/x-python",
   "name": "python",
   "nbconvert_exporter": "python",
   "pygments_lexer": "ipython3",
   "version": "3.9.7"
  },
  "vscode": {
   "interpreter": {
    "hash": "1a1af0ee75eeea9e2e1ee996c87e7a2b11a0bebd85af04bb136d915cefc0abce"
   }
  }
 },
 "nbformat": 4,
 "nbformat_minor": 5
}
