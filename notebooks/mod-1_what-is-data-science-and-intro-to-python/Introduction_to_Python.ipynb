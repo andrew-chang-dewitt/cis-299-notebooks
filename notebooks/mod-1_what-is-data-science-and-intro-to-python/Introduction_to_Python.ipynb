{
 "cells": [
  {
   "cell_type": "markdown",
   "id": "a45e7fde",
   "metadata": {
    "slideshow": {
     "slide_type": "slide"
    },
    "solution": "hidden",
    "tags": [
     "hide_code"
    ]
   },
   "source": [
    "<center> \n",
    "\n",
    "# What is Data Science?\n",
    "\n",
    "## Amanda Kube\n",
    "## CIS 299 - Spring 2023 \n",
    "    \n",
    "</center>"
   ]
  },
  {
   "cell_type": "markdown",
   "id": "540584ba",
   "metadata": {
    "cell_style": "split"
   },
   "source": [
    "<center> \n",
    "<img src=\"https://raw.githubusercontent.com/amandakube/Data118LectureImages/main/UChicago_DSI.png\" alt=\"UC-DSI\" width=\"600\" height=\"700\">\n",
    "</center>"
   ]
  },
  {
   "cell_type": "markdown",
   "id": "0a2f16d2",
   "metadata": {
    "cell_style": "split"
   },
   "source": [
    "<center>\n",
    "<img src=\"https://images.footballfanatics.com/harry-s-truman-college-falcons/harry-s-truman-college-falcons-20-x-20-retro-logo-circle-sign_pi5110000_ff_5110552-aba43bc89b43218bc84f_full.jpg?_hv=2\" alt=\"TRUMAN\" width=\"200\" height=\"200\">\n",
    "</center>"
   ]
  },
  {
   "cell_type": "markdown",
   "id": "0bc6a814",
   "metadata": {
    "slideshow": {
     "slide_type": "slide"
    }
   },
   "source": [
    "## Today\n",
    "\n",
    "* Arithmetic Operations\n",
    "* Assignment Statements\n",
    "* Call expressions"
   ]
  },
  {
   "cell_type": "markdown",
   "id": "3b18e71d",
   "metadata": {
    "slideshow": {
     "slide_type": "slide"
    }
   },
   "source": [
    "## Now, how can we work with this data in python?\n",
    "\n",
    "We need to know basic *syntax* (Coding languages are extremely literal)\n",
    "\n",
    "\"the arrangement of words and phrases to create well-formed sentences in a language\"\n",
    "\n",
    "AKA coding grammar\n",
    "\n",
    "\n",
    "\n",
    "First, the boring stuff... "
   ]
  },
  {
   "cell_type": "markdown",
   "id": "cf166a41",
   "metadata": {
    "slideshow": {
     "slide_type": "slide"
    },
    "solution": "hidden"
   },
   "source": [
    "<center>\n",
    "\n",
    "<img src=\"https://raw.githubusercontent.com/amandakube/Data118LectureImages/main/ArithmeticOperators.png\" alt=\"Arithmetic Operators\" width=70%>\n",
    "   \n",
    "</center>"
   ]
  },
  {
   "cell_type": "markdown",
   "id": "00af8980",
   "metadata": {
    "slideshow": {
     "slide_type": "slide"
    }
   },
   "source": [
    "<center>\n",
    "\n",
    "<img src=\"https://raw.githubusercontent.com/amandakube/Data118LectureImages/main/Comparisons.png\" alt=\"Comparisons\" width=70%>\n",
    "   \n",
    "</center>"
   ]
  },
  {
   "cell_type": "code",
   "execution_count": 1,
   "id": "65693fbb",
   "metadata": {
    "slideshow": {
     "slide_type": "slide"
    }
   },
   "outputs": [],
   "source": [
    "# In Python code, a line starting with a '#' is a comment that has no effect on execution"
   ]
  },
  {
   "cell_type": "code",
   "execution_count": 2,
   "id": "fefccf49",
   "metadata": {
    "slideshow": {
     "slide_type": "fragment"
    }
   },
   "outputs": [
    {
     "data": {
      "text/plain": [
       "12"
      ]
     },
     "execution_count": 2,
     "metadata": {},
     "output_type": "execute_result"
    }
   ],
   "source": [
    "# Here's a simple multiplication expression\n",
    "\n",
    "3 * 4 "
   ]
  },
  {
   "cell_type": "markdown",
   "id": "4f21319e",
   "metadata": {
    "heading_collapsed": true,
    "slideshow": {
     "slide_type": "slide"
    }
   },
   "source": [
    "## Your Turn!"
   ]
  },
  {
   "cell_type": "markdown",
   "id": "ba610087",
   "metadata": {
    "hidden": true,
    "slideshow": {
     "slide_type": "skip"
    },
    "solution": "shown",
    "solution_first": true
   },
   "source": [
    "Python expressions obey the same familiar rules of precedence as in algebra: multiplication and division occur before addition and subtraction. Parentheses can be used to group together smaller expressions within a larger expression.\n",
    "\n",
    "#### Question 1a: BEFORE you execute the code, what do you think this will produce?"
   ]
  },
  {
   "cell_type": "code",
   "execution_count": null,
   "id": "6199291b",
   "metadata": {
    "hidden": true,
    "slideshow": {
     "slide_type": "skip"
    },
    "solution": "shown"
   },
   "outputs": [],
   "source": [
    "3 * 4 + 5 * 3"
   ]
  },
  {
   "cell_type": "markdown",
   "id": "16d53b00",
   "metadata": {
    "hidden": true,
    "slideshow": {
     "slide_type": "skip"
    },
    "solution": "shown"
   },
   "source": [
    "Answer:"
   ]
  },
  {
   "cell_type": "markdown",
   "id": "3573d774",
   "metadata": {
    "hidden": true,
    "slideshow": {
     "slide_type": "skip"
    }
   },
   "source": [
    "#### Question 1b: What about this?"
   ]
  },
  {
   "cell_type": "code",
   "execution_count": null,
   "id": "a050d583",
   "metadata": {
    "hidden": true,
    "slideshow": {
     "slide_type": "skip"
    }
   },
   "outputs": [],
   "source": [
    "3 * (4 + 5) * 3"
   ]
  },
  {
   "cell_type": "markdown",
   "id": "2f4bf0e0",
   "metadata": {
    "hidden": true,
    "slideshow": {
     "slide_type": "skip"
    }
   },
   "source": [
    "Answer:"
   ]
  },
  {
   "cell_type": "markdown",
   "id": "08c703d4",
   "metadata": {
    "hidden": true,
    "slideshow": {
     "slide_type": "skip"
    }
   },
   "source": [
    "#### Question 2a: What will this produce?"
   ]
  },
  {
   "cell_type": "code",
   "execution_count": null,
   "id": "5e958d5b",
   "metadata": {
    "hidden": true,
    "slideshow": {
     "slide_type": "skip"
    }
   },
   "outputs": [],
   "source": [
    "2 * * 5"
   ]
  },
  {
   "cell_type": "markdown",
   "id": "c94aa471",
   "metadata": {
    "hidden": true,
    "slideshow": {
     "slide_type": "skip"
    }
   },
   "source": [
    "Answer:"
   ]
  },
  {
   "cell_type": "markdown",
   "id": "b3f5090a",
   "metadata": {
    "hidden": true,
    "slideshow": {
     "slide_type": "skip"
    },
    "solution2": "shown",
    "solution2_first": true
   },
   "source": [
    "#### Question 2b: How would you fix the code in the previous cell?"
   ]
  },
  {
   "cell_type": "code",
   "execution_count": null,
   "id": "3e4e29b5",
   "metadata": {
    "hidden": true,
    "slideshow": {
     "slide_type": "skip"
    }
   },
   "outputs": [],
   "source": [
    "#Answer:"
   ]
  },
  {
   "cell_type": "markdown",
   "id": "921fd9e0",
   "metadata": {
    "hidden": true,
    "slideshow": {
     "slide_type": "skip"
    }
   },
   "source": [
    "We can also do division:"
   ]
  },
  {
   "cell_type": "code",
   "execution_count": null,
   "id": "17830606",
   "metadata": {
    "hidden": true,
    "slideshow": {
     "slide_type": "skip"
    }
   },
   "outputs": [],
   "source": [
    "7 / 3"
   ]
  },
  {
   "cell_type": "markdown",
   "id": "7832068a",
   "metadata": {
    "hidden": true,
    "slideshow": {
     "slide_type": "skip"
    }
   },
   "source": [
    "And ask python to tell us the data type of the result:"
   ]
  },
  {
   "cell_type": "code",
   "execution_count": null,
   "id": "a612a34e",
   "metadata": {
    "hidden": true,
    "slideshow": {
     "slide_type": "skip"
    }
   },
   "outputs": [],
   "source": [
    "type(7 / 3)"
   ]
  },
  {
   "cell_type": "markdown",
   "id": "c42a540b",
   "metadata": {
    "hidden": true,
    "slideshow": {
     "slide_type": "skip"
    }
   },
   "source": [
    "Using // does floor division"
   ]
  },
  {
   "cell_type": "code",
   "execution_count": null,
   "id": "4fd77b02",
   "metadata": {
    "hidden": true,
    "slideshow": {
     "slide_type": "skip"
    }
   },
   "outputs": [],
   "source": [
    "7 // 3"
   ]
  },
  {
   "cell_type": "markdown",
   "id": "31575e0d",
   "metadata": {
    "hidden": true,
    "slideshow": {
     "slide_type": "skip"
    },
    "solution2": "hidden",
    "solution2_first": true
   },
   "source": [
    "#### Question 3: What data type is the result of 7//3? Use python to check your answer."
   ]
  },
  {
   "cell_type": "code",
   "execution_count": null,
   "id": "7d7c7b84",
   "metadata": {
    "hidden": true,
    "solution2": "hidden"
   },
   "outputs": [],
   "source": [
    "type(7 // 3)"
   ]
  },
  {
   "cell_type": "code",
   "execution_count": null,
   "id": "0920c3ab",
   "metadata": {
    "hidden": true,
    "slideshow": {
     "slide_type": "skip"
    }
   },
   "outputs": [],
   "source": [
    "#Answer:\n"
   ]
  },
  {
   "cell_type": "markdown",
   "id": "71a1a679",
   "metadata": {
    "hidden": true,
    "slideshow": {
     "slide_type": "skip"
    }
   },
   "source": [
    "% is the remainder (or modulo) operator"
   ]
  },
  {
   "cell_type": "code",
   "execution_count": null,
   "id": "62840fea",
   "metadata": {
    "hidden": true,
    "slideshow": {
     "slide_type": "skip"
    }
   },
   "outputs": [],
   "source": [
    "7 % 3"
   ]
  },
  {
   "cell_type": "markdown",
   "id": "b5f4418a",
   "metadata": {
    "hidden": true,
    "slideshow": {
     "slide_type": "skip"
    }
   },
   "source": [
    "#### Question 4: What do you think this next cell will produce?"
   ]
  },
  {
   "cell_type": "code",
   "execution_count": 5,
   "id": "31374de6",
   "metadata": {
    "hidden": true,
    "slideshow": {
     "slide_type": "skip"
    }
   },
   "outputs": [
    {
     "data": {
      "text/plain": [
       "4.0"
      ]
     },
     "execution_count": 5,
     "metadata": {},
     "output_type": "execute_result"
    }
   ],
   "source": [
    "float('4.0')"
   ]
  },
  {
   "cell_type": "markdown",
   "id": "d776253d",
   "metadata": {
    "hidden": true,
    "slideshow": {
     "slide_type": "skip"
    }
   },
   "source": [
    "Answer:"
   ]
  },
  {
   "cell_type": "markdown",
   "id": "fe1faf55",
   "metadata": {
    "hidden": true,
    "slideshow": {
     "slide_type": "skip"
    }
   },
   "source": [
    "#### Question 5a: What about this?"
   ]
  },
  {
   "cell_type": "code",
   "execution_count": 10,
   "id": "7fd7dda8",
   "metadata": {
    "hidden": true,
    "slideshow": {
     "slide_type": "skip"
    }
   },
   "outputs": [
    {
     "data": {
      "text/plain": [
       "16.0"
      ]
     },
     "execution_count": 10,
     "metadata": {},
     "output_type": "execute_result"
    }
   ],
   "source": [
    "8 / 2*(2+2)"
   ]
  },
  {
   "cell_type": "markdown",
   "id": "a544e215",
   "metadata": {
    "hidden": true,
    "slideshow": {
     "slide_type": "skip"
    }
   },
   "source": [
    "Answer:"
   ]
  },
  {
   "cell_type": "markdown",
   "id": "1f6c2af6",
   "metadata": {
    "hidden": true,
    "slideshow": {
     "slide_type": "skip"
    },
    "solution2": "hidden",
    "solution2_first": true
   },
   "source": [
    "#### Question 5b: How would you fix the code above?"
   ]
  },
  {
   "cell_type": "code",
   "execution_count": null,
   "id": "6211024a",
   "metadata": {
    "hidden": true,
    "slideshow": {
     "slide_type": "skip"
    }
   },
   "outputs": [],
   "source": [
    "#Answer:"
   ]
  },
  {
   "cell_type": "markdown",
   "id": "c5f4fec1",
   "metadata": {
    "hidden": true,
    "slideshow": {
     "slide_type": "skip"
    }
   },
   "source": [
    "#### Question 6: Before you run the next cell, will the result be True or False?"
   ]
  },
  {
   "cell_type": "code",
   "execution_count": 6,
   "id": "32ce2d7f",
   "metadata": {
    "hidden": true,
    "slideshow": {
     "slide_type": "skip"
    }
   },
   "outputs": [
    {
     "data": {
      "text/plain": [
       "False"
      ]
     },
     "execution_count": 6,
     "metadata": {},
     "output_type": "execute_result"
    }
   ],
   "source": [
    "3 > 1 + 10"
   ]
  },
  {
   "cell_type": "markdown",
   "id": "af282abb",
   "metadata": {
    "hidden": true,
    "slideshow": {
     "slide_type": "skip"
    }
   },
   "source": [
    "Answer:"
   ]
  },
  {
   "cell_type": "markdown",
   "id": "d2ba045f",
   "metadata": {
    "hidden": true,
    "slideshow": {
     "slide_type": "skip"
    }
   },
   "source": [
    "#### Question 7: What about this one?"
   ]
  },
  {
   "cell_type": "code",
   "execution_count": 7,
   "id": "fc0133e2",
   "metadata": {
    "hidden": true,
    "slideshow": {
     "slide_type": "skip"
    }
   },
   "outputs": [
    {
     "data": {
      "text/plain": [
       "True"
      ]
     },
     "execution_count": 7,
     "metadata": {},
     "output_type": "execute_result"
    }
   ],
   "source": [
    "1 < 1 + 1 < 3"
   ]
  },
  {
   "cell_type": "markdown",
   "id": "002881f0",
   "metadata": {
    "hidden": true,
    "slideshow": {
     "slide_type": "skip"
    }
   },
   "source": [
    "Answer:"
   ]
  },
  {
   "cell_type": "markdown",
   "id": "2b714c9f",
   "metadata": {
    "slideshow": {
     "slide_type": "slide"
    }
   },
   "source": [
    "## Assignment Statements\n",
    "\n",
    "Expressions have a value when executed\n",
    "Statements don't have a value; they perform an action\n",
    "An assignment statement changes the meaning of the name to the left of the = symbol\n",
    "The name is bound to a value (not an equation)\n",
    "\n",
    "<img src=\"https://raw.githubusercontent.com/amandakube/Data118LectureImages/main/AssignmentStatement.png\" alt=\"Assignment Statments\">\n"
   ]
  },
  {
   "cell_type": "markdown",
   "id": "8be91e00",
   "metadata": {
    "slideshow": {
     "slide_type": "slide"
    }
   },
   "source": [
    "## Let's try some"
   ]
  },
  {
   "cell_type": "code",
   "execution_count": 13,
   "id": "6a0056d6",
   "metadata": {
    "slideshow": {
     "slide_type": "fragment"
    }
   },
   "outputs": [],
   "source": [
    "number_one = 5\n",
    "number_two = 20"
   ]
  },
  {
   "cell_type": "code",
   "execution_count": 14,
   "id": "b3b6cc40",
   "metadata": {
    "slideshow": {
     "slide_type": "fragment"
    }
   },
   "outputs": [
    {
     "data": {
      "text/plain": [
       "5"
      ]
     },
     "execution_count": 14,
     "metadata": {},
     "output_type": "execute_result"
    }
   ],
   "source": [
    "#a variable name by itself is an expression\n",
    "number_one"
   ]
  },
  {
   "cell_type": "code",
   "execution_count": 15,
   "id": "b738a852",
   "metadata": {
    "slideshow": {
     "slide_type": "fragment"
    }
   },
   "outputs": [
    {
     "ename": "NameError",
     "evalue": "name 'number_three' is not defined",
     "output_type": "error",
     "traceback": [
      "\u001b[0;31m---------------------------------------------------------------------------\u001b[0m",
      "\u001b[0;31mNameError\u001b[0m                                 Traceback (most recent call last)",
      "Cell \u001b[0;32mIn[15], line 2\u001b[0m\n\u001b[1;32m      1\u001b[0m \u001b[38;5;66;03m#variable names don't have values until you assign them\u001b[39;00m\n\u001b[0;32m----> 2\u001b[0m \u001b[43mnumber_three\u001b[49m\n",
      "\u001b[0;31mNameError\u001b[0m: name 'number_three' is not defined"
     ]
    }
   ],
   "source": [
    "#variable names don't have values until you assign them\n",
    "number_three"
   ]
  },
  {
   "cell_type": "code",
   "execution_count": 16,
   "id": "3fcea790",
   "metadata": {
    "slideshow": {
     "slide_type": "slide"
    }
   },
   "outputs": [
    {
     "data": {
      "text/plain": [
       "100"
      ]
     },
     "execution_count": 16,
     "metadata": {},
     "output_type": "execute_result"
    }
   ],
   "source": [
    "#a multiplication expression that does not assign its result to a variable name\n",
    "number_one * number_two"
   ]
  },
  {
   "cell_type": "code",
   "execution_count": 22,
   "id": "e41fbc54",
   "metadata": {
    "slideshow": {
     "slide_type": "fragment"
    }
   },
   "outputs": [],
   "source": [
    "# Assigning the result to a variable name\n",
    "total = number_one * number_two"
   ]
  },
  {
   "cell_type": "code",
   "execution_count": 23,
   "id": "04b597a8",
   "metadata": {
    "slideshow": {
     "slide_type": "fragment"
    }
   },
   "outputs": [
    {
     "data": {
      "text/plain": [
       "20000000"
      ]
     },
     "execution_count": 23,
     "metadata": {},
     "output_type": "execute_result"
    }
   ],
   "source": [
    "total"
   ]
  },
  {
   "cell_type": "code",
   "execution_count": 19,
   "id": "8c93d4d4",
   "metadata": {
    "slideshow": {
     "slide_type": "slide"
    }
   },
   "outputs": [
    {
     "name": "stdout",
     "output_type": "stream",
     "text": [
      "The total is: 100\n"
     ]
    }
   ],
   "source": [
    "print('The total is:', total)"
   ]
  },
  {
   "cell_type": "code",
   "execution_count": 20,
   "id": "3a02237f",
   "metadata": {
    "slideshow": {
     "slide_type": "fragment"
    }
   },
   "outputs": [
    {
     "name": "stdout",
     "output_type": "stream",
     "text": [
      "The total is: 200\n"
     ]
    }
   ],
   "source": [
    "print('The total is:', total * 2)"
   ]
  },
  {
   "cell_type": "code",
   "execution_count": 21,
   "id": "d069bba2",
   "metadata": {
    "slideshow": {
     "slide_type": "fragment"
    }
   },
   "outputs": [
    {
     "data": {
      "text/plain": [
       "100"
      ]
     },
     "execution_count": 21,
     "metadata": {},
     "output_type": "execute_result"
    }
   ],
   "source": [
    "number_one = 1000000\n",
    "total"
   ]
  },
  {
   "cell_type": "markdown",
   "id": "f2c50f0f",
   "metadata": {
    "slideshow": {
     "slide_type": "slide"
    }
   },
   "source": [
    "Now, strings! Remember that double or single quotes can be used to make strings."
   ]
  },
  {
   "cell_type": "code",
   "execution_count": 24,
   "id": "2b5bf85b",
   "metadata": {
    "slideshow": {
     "slide_type": "fragment"
    }
   },
   "outputs": [],
   "source": [
    "sentence1 = \"a man a plan a canal panama\"\n",
    "sentence2 = 'a man a plan a canal panama'"
   ]
  },
  {
   "cell_type": "code",
   "execution_count": 25,
   "id": "5def7206",
   "metadata": {
    "slideshow": {
     "slide_type": "fragment"
    }
   },
   "outputs": [
    {
     "data": {
      "text/plain": [
       "True"
      ]
     },
     "execution_count": 25,
     "metadata": {},
     "output_type": "execute_result"
    }
   ],
   "source": [
    "sentence1 == sentence2"
   ]
  },
  {
   "cell_type": "markdown",
   "id": "d2d37311",
   "metadata": {
    "slideshow": {
     "slide_type": "slide"
    }
   },
   "source": [
    "Triple quotes are used if a string spans multiple lines"
   ]
  },
  {
   "cell_type": "code",
   "execution_count": 26,
   "id": "2727384b",
   "metadata": {
    "slideshow": {
     "slide_type": "fragment"
    }
   },
   "outputs": [
    {
     "data": {
      "text/plain": [
       "'go hang a salami\\nim a lasagna hog'"
      ]
     },
     "execution_count": 26,
     "metadata": {},
     "output_type": "execute_result"
    }
   ],
   "source": [
    "long_sentence = '''go hang a salami\n",
    "im a lasagna hog'''\n",
    "\n",
    "long_sentence"
   ]
  },
  {
   "cell_type": "markdown",
   "id": "6fc195c0",
   "metadata": {
    "slideshow": {
     "slide_type": "fragment"
    }
   },
   "source": [
    "NOTE: the special character \"\\n\" is called a newline character.\n",
    "using print() to output a string handles them correctly"
   ]
  },
  {
   "cell_type": "code",
   "execution_count": 27,
   "id": "6406c002",
   "metadata": {
    "slideshow": {
     "slide_type": "fragment"
    }
   },
   "outputs": [
    {
     "name": "stdout",
     "output_type": "stream",
     "text": [
      "go hang a salami\n",
      "im a lasagna hog\n"
     ]
    }
   ],
   "source": [
    "print(long_sentence)"
   ]
  },
  {
   "cell_type": "code",
   "execution_count": 28,
   "id": "73e1c9a3",
   "metadata": {
    "slideshow": {
     "slide_type": "slide"
    }
   },
   "outputs": [
    {
     "data": {
      "text/plain": [
       "'data science'"
      ]
     },
     "execution_count": 28,
     "metadata": {},
     "output_type": "execute_result"
    }
   ],
   "source": [
    "\"data\" + \" \" + \"science\""
   ]
  },
  {
   "cell_type": "code",
   "execution_count": 29,
   "id": "a9754595",
   "metadata": {
    "slideshow": {
     "slide_type": "fragment"
    }
   },
   "outputs": [],
   "source": [
    "# Assign some variables\n",
    "d = \"data\"\n",
    "s = \"science\"\n",
    "space = \" \""
   ]
  },
  {
   "cell_type": "code",
   "execution_count": 30,
   "id": "adab0ecc",
   "metadata": {
    "slideshow": {
     "slide_type": "fragment"
    }
   },
   "outputs": [
    {
     "data": {
      "text/plain": [
       "'data science'"
      ]
     },
     "execution_count": 30,
     "metadata": {},
     "output_type": "execute_result"
    }
   ],
   "source": [
    "# Use the variables from the previous cell\n",
    "d + space + s"
   ]
  },
  {
   "cell_type": "code",
   "execution_count": 31,
   "id": "3a4e148c",
   "metadata": {
    "slideshow": {
     "slide_type": "slide"
    }
   },
   "outputs": [
    {
     "data": {
      "text/plain": [
       "'32'"
      ]
     },
     "execution_count": 31,
     "metadata": {},
     "output_type": "execute_result"
    }
   ],
   "source": [
    "str(2**5)"
   ]
  },
  {
   "cell_type": "code",
   "execution_count": 32,
   "id": "31664e7c",
   "metadata": {
    "slideshow": {
     "slide_type": "fragment"
    }
   },
   "outputs": [
    {
     "ename": "TypeError",
     "evalue": "can only concatenate str (not \"int\") to str",
     "output_type": "error",
     "traceback": [
      "\u001b[0;31m---------------------------------------------------------------------------\u001b[0m",
      "\u001b[0;31mTypeError\u001b[0m                                 Traceback (most recent call last)",
      "Cell \u001b[0;32mIn[32], line 3\u001b[0m\n\u001b[1;32m      1\u001b[0m \u001b[38;5;66;03m# What do you expect is the outcome of this cell?\u001b[39;00m\n\u001b[1;32m      2\u001b[0m ten \u001b[38;5;241m=\u001b[39m \u001b[38;5;241m10\u001b[39m\n\u001b[0;32m----> 3\u001b[0m \u001b[38;5;28mprint\u001b[39m(\u001b[38;5;124;43m\"\u001b[39;49m\u001b[38;5;124;43mI have \u001b[39;49m\u001b[38;5;124;43m\"\u001b[39;49m\u001b[43m \u001b[49m\u001b[38;5;241;43m+\u001b[39;49m\u001b[43m \u001b[49m\u001b[43mten\u001b[49m \u001b[38;5;241m+\u001b[39m \u001b[38;5;124m\"\u001b[39m\u001b[38;5;124m dollars\u001b[39m\u001b[38;5;124m\"\u001b[39m)\n",
      "\u001b[0;31mTypeError\u001b[0m: can only concatenate str (not \"int\") to str"
     ]
    }
   ],
   "source": [
    "# What do you expect is the outcome of this cell?\n",
    "ten = 10\n",
    "print(\"I have \" + ten + \" dollars\")"
   ]
  },
  {
   "cell_type": "code",
   "execution_count": 33,
   "id": "7d108382",
   "metadata": {
    "slideshow": {
     "slide_type": "fragment"
    }
   },
   "outputs": [
    {
     "name": "stdout",
     "output_type": "stream",
     "text": [
      "I have 10 dollars\n"
     ]
    }
   ],
   "source": [
    "# Using type conversion to string\n",
    "print(\"I have \" + str(ten) + \" dollars\")"
   ]
  },
  {
   "cell_type": "markdown",
   "id": "bd205abf",
   "metadata": {
    "slideshow": {
     "slide_type": "slide"
    }
   },
   "source": [
    "## Call Expressions\n",
    "\n",
    "Since calculating some things, like the mean or sum of numbers, is common, Python has methods built-in to do this. We can use those methods by 'calling' them.\n",
    "\n",
    "Call expressions invoke functions, which are named operations. The name of the function appears first, followed by expressions in parentheses.\n",
    "\n",
    "### Anatomy of a call expression:\n",
    "\n",
    "<img src=\"https://raw.githubusercontent.com/amandakube/Data118LectureImages/main/CallExpression.png\" alt=\"Call Expression\">"
   ]
  },
  {
   "cell_type": "markdown",
   "id": "76ddf1cf",
   "metadata": {
    "slideshow": {
     "slide_type": "slide"
    }
   },
   "source": [
    "### An example:\n",
    "\n",
    "<img src=\"https://raw.githubusercontent.com/amandakube/Data118LectureImages/main/CallExpression2.png\" alt=\"Call Expression\">"
   ]
  },
  {
   "cell_type": "code",
   "execution_count": 1,
   "id": "d7d859d5",
   "metadata": {
    "slideshow": {
     "slide_type": "fragment"
    }
   },
   "outputs": [
    {
     "data": {
      "text/plain": [
       "27"
      ]
     },
     "execution_count": 1,
     "metadata": {},
     "output_type": "execute_result"
    }
   ],
   "source": [
    "max(15,27)"
   ]
  },
  {
   "cell_type": "markdown",
   "id": "975ed756",
   "metadata": {
    "slideshow": {
     "slide_type": "slide"
    }
   },
   "source": [
    "### Let's try some more"
   ]
  },
  {
   "cell_type": "code",
   "execution_count": 2,
   "id": "406e580b",
   "metadata": {
    "slideshow": {
     "slide_type": "fragment"
    }
   },
   "outputs": [
    {
     "data": {
      "text/plain": [
       "12"
      ]
     },
     "execution_count": 2,
     "metadata": {},
     "output_type": "execute_result"
    }
   ],
   "source": [
    "abs(-12)"
   ]
  },
  {
   "cell_type": "code",
   "execution_count": 3,
   "id": "857f4dc6",
   "metadata": {
    "slideshow": {
     "slide_type": "fragment"
    }
   },
   "outputs": [
    {
     "data": {
      "text/plain": [
       "<function round(number, ndigits=None)>"
      ]
     },
     "execution_count": 3,
     "metadata": {},
     "output_type": "execute_result"
    }
   ],
   "source": [
    "round"
   ]
  },
  {
   "cell_type": "code",
   "execution_count": 4,
   "id": "475dcfd3",
   "metadata": {
    "slideshow": {
     "slide_type": "fragment"
    }
   },
   "outputs": [
    {
     "data": {
      "text/plain": [
       "7"
      ]
     },
     "execution_count": 4,
     "metadata": {},
     "output_type": "execute_result"
    }
   ],
   "source": [
    "max(6, 4, 3 + 4)"
   ]
  },
  {
   "cell_type": "code",
   "execution_count": 5,
   "id": "d112146b",
   "metadata": {
    "slideshow": {
     "slide_type": "fragment"
    }
   },
   "outputs": [
    {
     "name": "stdout",
     "output_type": "stream",
     "text": [
      "Help on built-in function max in module builtins:\n",
      "\n",
      "max(...)\n",
      "    max(iterable, *[, default=obj, key=func]) -> value\n",
      "    max(arg1, arg2, *args, *[, key=func]) -> value\n",
      "    \n",
      "    With a single iterable argument, return its biggest item. The\n",
      "    default keyword-only argument specifies an object to return if\n",
      "    the provided iterable is empty.\n",
      "    With two or more arguments, return the largest argument.\n",
      "\n"
     ]
    }
   ],
   "source": [
    "help(max)"
   ]
  },
  {
   "cell_type": "code",
   "execution_count": 6,
   "id": "77a8bdaa",
   "metadata": {
    "slideshow": {
     "slide_type": "slide"
    }
   },
   "outputs": [
    {
     "name": "stdout",
     "output_type": "stream",
     "text": [
      "political science\n"
     ]
    }
   ],
   "source": [
    "datasci = \"data science\"\n",
    "polysci = datasci.replace(\"data\", \"political\")\n",
    "print(polysci)"
   ]
  },
  {
   "cell_type": "code",
   "execution_count": 7,
   "id": "56af6c44",
   "metadata": {
    "slideshow": {
     "slide_type": "fragment"
    }
   },
   "outputs": [
    {
     "data": {
      "text/plain": [
       "['political', 'science']"
      ]
     },
     "execution_count": 7,
     "metadata": {},
     "output_type": "execute_result"
    }
   ],
   "source": [
    "polysci.split()"
   ]
  },
  {
   "cell_type": "markdown",
   "id": "7918a6b2",
   "metadata": {
    "slideshow": {
     "slide_type": "slide"
    }
   },
   "source": [
    "While many functions are built-in, many others are in \"modules\" or libraries of functions which we must import"
   ]
  },
  {
   "cell_type": "code",
   "execution_count": 8,
   "id": "6a43f270",
   "metadata": {
    "slideshow": {
     "slide_type": "fragment"
    }
   },
   "outputs": [
    {
     "name": "stdout",
     "output_type": "stream",
     "text": [
      "4\n",
      "3.141592653589793\n",
      "32\n"
     ]
    }
   ],
   "source": [
    "import math\n",
    "import operator as op\n",
    "\n",
    "print(math.ceil(3.2))\n",
    "print(math.pi)\n",
    "print(op.pow(2,5))"
   ]
  },
  {
   "cell_type": "code",
   "execution_count": 9,
   "id": "733107b7",
   "metadata": {
    "slideshow": {
     "slide_type": "fragment"
    }
   },
   "outputs": [
    {
     "name": "stdout",
     "output_type": "stream",
     "text": [
      "Help on module math:\n",
      "\n",
      "NAME\n",
      "    math\n",
      "\n",
      "DESCRIPTION\n",
      "    This module provides access to the mathematical functions\n",
      "    defined by the C standard.\n",
      "\n",
      "FUNCTIONS\n",
      "    acos(x, /)\n",
      "        Return the arc cosine (measured in radians) of x.\n",
      "        \n",
      "        The result is between 0 and pi.\n",
      "    \n",
      "    acosh(x, /)\n",
      "        Return the inverse hyperbolic cosine of x.\n",
      "    \n",
      "    asin(x, /)\n",
      "        Return the arc sine (measured in radians) of x.\n",
      "        \n",
      "        The result is between -pi/2 and pi/2.\n",
      "    \n",
      "    asinh(x, /)\n",
      "        Return the inverse hyperbolic sine of x.\n",
      "    \n",
      "    atan(x, /)\n",
      "        Return the arc tangent (measured in radians) of x.\n",
      "        \n",
      "        The result is between -pi/2 and pi/2.\n",
      "    \n",
      "    atan2(y, x, /)\n",
      "        Return the arc tangent (measured in radians) of y/x.\n",
      "        \n",
      "        Unlike atan(y/x), the signs of both x and y are considered.\n",
      "    \n",
      "    atanh(x, /)\n",
      "        Return the inverse hyperbolic tangent of x.\n",
      "    \n",
      "    ceil(x, /)\n",
      "        Return the ceiling of x as an Integral.\n",
      "        \n",
      "        This is the smallest integer >= x.\n",
      "    \n",
      "    comb(n, k, /)\n",
      "        Number of ways to choose k items from n items without repetition and without order.\n",
      "        \n",
      "        Evaluates to n! / (k! * (n - k)!) when k <= n and evaluates\n",
      "        to zero when k > n.\n",
      "        \n",
      "        Also called the binomial coefficient because it is equivalent\n",
      "        to the coefficient of k-th term in polynomial expansion of the\n",
      "        expression (1 + x)**n.\n",
      "        \n",
      "        Raises TypeError if either of the arguments are not integers.\n",
      "        Raises ValueError if either of the arguments are negative.\n",
      "    \n",
      "    copysign(x, y, /)\n",
      "        Return a float with the magnitude (absolute value) of x but the sign of y.\n",
      "        \n",
      "        On platforms that support signed zeros, copysign(1.0, -0.0)\n",
      "        returns -1.0.\n",
      "    \n",
      "    cos(x, /)\n",
      "        Return the cosine of x (measured in radians).\n",
      "    \n",
      "    cosh(x, /)\n",
      "        Return the hyperbolic cosine of x.\n",
      "    \n",
      "    degrees(x, /)\n",
      "        Convert angle x from radians to degrees.\n",
      "    \n",
      "    dist(p, q, /)\n",
      "        Return the Euclidean distance between two points p and q.\n",
      "        \n",
      "        The points should be specified as sequences (or iterables) of\n",
      "        coordinates.  Both inputs must have the same dimension.\n",
      "        \n",
      "        Roughly equivalent to:\n",
      "            sqrt(sum((px - qx) ** 2.0 for px, qx in zip(p, q)))\n",
      "    \n",
      "    erf(x, /)\n",
      "        Error function at x.\n",
      "    \n",
      "    erfc(x, /)\n",
      "        Complementary error function at x.\n",
      "    \n",
      "    exp(x, /)\n",
      "        Return e raised to the power of x.\n",
      "    \n",
      "    expm1(x, /)\n",
      "        Return exp(x)-1.\n",
      "        \n",
      "        This function avoids the loss of precision involved in the direct evaluation of exp(x)-1 for small x.\n",
      "    \n",
      "    fabs(x, /)\n",
      "        Return the absolute value of the float x.\n",
      "    \n",
      "    factorial(x, /)\n",
      "        Find x!.\n",
      "        \n",
      "        Raise a ValueError if x is negative or non-integral.\n",
      "    \n",
      "    floor(x, /)\n",
      "        Return the floor of x as an Integral.\n",
      "        \n",
      "        This is the largest integer <= x.\n",
      "    \n",
      "    fmod(x, y, /)\n",
      "        Return fmod(x, y), according to platform C.\n",
      "        \n",
      "        x % y may differ.\n",
      "    \n",
      "    frexp(x, /)\n",
      "        Return the mantissa and exponent of x, as pair (m, e).\n",
      "        \n",
      "        m is a float and e is an int, such that x = m * 2.**e.\n",
      "        If x is 0, m and e are both 0.  Else 0.5 <= abs(m) < 1.0.\n",
      "    \n",
      "    fsum(seq, /)\n",
      "        Return an accurate floating point sum of values in the iterable seq.\n",
      "        \n",
      "        Assumes IEEE-754 floating point arithmetic.\n",
      "    \n",
      "    gamma(x, /)\n",
      "        Gamma function at x.\n",
      "    \n",
      "    gcd(*integers)\n",
      "        Greatest Common Divisor.\n",
      "    \n",
      "    hypot(...)\n",
      "        hypot(*coordinates) -> value\n",
      "        \n",
      "        Multidimensional Euclidean distance from the origin to a point.\n",
      "        \n",
      "        Roughly equivalent to:\n",
      "            sqrt(sum(x**2 for x in coordinates))\n",
      "        \n",
      "        For a two dimensional point (x, y), gives the hypotenuse\n",
      "        using the Pythagorean theorem:  sqrt(x*x + y*y).\n",
      "        \n",
      "        For example, the hypotenuse of a 3/4/5 right triangle is:\n",
      "        \n",
      "            >>> hypot(3.0, 4.0)\n",
      "            5.0\n",
      "    \n",
      "    isclose(a, b, *, rel_tol=1e-09, abs_tol=0.0)\n",
      "        Determine whether two floating point numbers are close in value.\n",
      "        \n",
      "          rel_tol\n",
      "            maximum difference for being considered \"close\", relative to the\n",
      "            magnitude of the input values\n",
      "          abs_tol\n",
      "            maximum difference for being considered \"close\", regardless of the\n",
      "            magnitude of the input values\n",
      "        \n",
      "        Return True if a is close in value to b, and False otherwise.\n",
      "        \n",
      "        For the values to be considered close, the difference between them\n",
      "        must be smaller than at least one of the tolerances.\n",
      "        \n",
      "        -inf, inf and NaN behave similarly to the IEEE 754 Standard.  That\n",
      "        is, NaN is not close to anything, even itself.  inf and -inf are\n",
      "        only close to themselves.\n",
      "    \n",
      "    isfinite(x, /)\n",
      "        Return True if x is neither an infinity nor a NaN, and False otherwise.\n",
      "    \n",
      "    isinf(x, /)\n",
      "        Return True if x is a positive or negative infinity, and False otherwise.\n",
      "    \n",
      "    isnan(x, /)\n",
      "        Return True if x is a NaN (not a number), and False otherwise.\n",
      "    \n",
      "    isqrt(n, /)\n",
      "        Return the integer part of the square root of the input.\n",
      "    \n",
      "    lcm(*integers)\n",
      "        Least Common Multiple.\n",
      "    \n",
      "    ldexp(x, i, /)\n",
      "        Return x * (2**i).\n",
      "        \n",
      "        This is essentially the inverse of frexp().\n",
      "    \n",
      "    lgamma(x, /)\n",
      "        Natural logarithm of absolute value of Gamma function at x.\n",
      "    \n",
      "    log(...)\n",
      "        log(x, [base=math.e])\n",
      "        Return the logarithm of x to the given base.\n",
      "        \n",
      "        If the base not specified, returns the natural logarithm (base e) of x.\n",
      "    \n",
      "    log10(x, /)\n",
      "        Return the base 10 logarithm of x.\n",
      "    \n",
      "    log1p(x, /)\n",
      "        Return the natural logarithm of 1+x (base e).\n",
      "        \n",
      "        The result is computed in a way which is accurate for x near zero.\n",
      "    \n",
      "    log2(x, /)\n",
      "        Return the base 2 logarithm of x.\n",
      "    \n",
      "    modf(x, /)\n",
      "        Return the fractional and integer parts of x.\n",
      "        \n",
      "        Both results carry the sign of x and are floats.\n",
      "    \n",
      "    nextafter(x, y, /)\n",
      "        Return the next floating-point value after x towards y.\n",
      "    \n",
      "    perm(n, k=None, /)\n",
      "        Number of ways to choose k items from n items without repetition and with order.\n",
      "        \n",
      "        Evaluates to n! / (n - k)! when k <= n and evaluates\n",
      "        to zero when k > n.\n",
      "        \n",
      "        If k is not specified or is None, then k defaults to n\n",
      "        and the function returns n!.\n",
      "        \n",
      "        Raises TypeError if either of the arguments are not integers.\n",
      "        Raises ValueError if either of the arguments are negative.\n",
      "    \n",
      "    pow(x, y, /)\n",
      "        Return x**y (x to the power of y).\n",
      "    \n",
      "    prod(iterable, /, *, start=1)\n",
      "        Calculate the product of all the elements in the input iterable.\n",
      "        \n",
      "        The default start value for the product is 1.\n",
      "        \n",
      "        When the iterable is empty, return the start value.  This function is\n",
      "        intended specifically for use with numeric values and may reject\n",
      "        non-numeric types.\n",
      "    \n",
      "    radians(x, /)\n",
      "        Convert angle x from degrees to radians.\n",
      "    \n",
      "    remainder(x, y, /)\n",
      "        Difference between x and the closest integer multiple of y.\n",
      "        \n",
      "        Return x - n*y where n*y is the closest integer multiple of y.\n",
      "        In the case where x is exactly halfway between two multiples of\n",
      "        y, the nearest even value of n is used. The result is always exact.\n",
      "    \n",
      "    sin(x, /)\n",
      "        Return the sine of x (measured in radians).\n",
      "    \n",
      "    sinh(x, /)\n",
      "        Return the hyperbolic sine of x.\n",
      "    \n",
      "    sqrt(x, /)\n",
      "        Return the square root of x.\n",
      "    \n",
      "    tan(x, /)\n",
      "        Return the tangent of x (measured in radians).\n",
      "    \n",
      "    tanh(x, /)\n",
      "        Return the hyperbolic tangent of x.\n",
      "    \n",
      "    trunc(x, /)\n",
      "        Truncates the Real x to the nearest Integral toward 0.\n",
      "        \n",
      "        Uses the __trunc__ magic method.\n",
      "    \n",
      "    ulp(x, /)\n",
      "        Return the value of the least significant bit of the float x.\n",
      "\n",
      "DATA\n",
      "    e = 2.718281828459045\n",
      "    inf = inf\n",
      "    nan = nan\n",
      "    pi = 3.141592653589793\n",
      "    tau = 6.283185307179586\n",
      "\n",
      "FILE\n",
      "    /usr/local/Cellar/python@3.10/3.10.9/Frameworks/Python.framework/Versions/3.10/lib/python3.10/lib-dynload/math.cpython-310-darwin.so\n",
      "\n",
      "\n"
     ]
    }
   ],
   "source": [
    "help(math)"
   ]
  }
 ],
 "metadata": {
  "celltoolbar": "Slideshow",
  "kernelspec": {
   "display_name": "Python 3",
   "language": "python",
   "name": "python3"
  },
  "language_info": {
   "codemirror_mode": {
    "name": "ipython",
    "version": 3
   },
   "file_extension": ".py",
   "mimetype": "text/x-python",
   "name": "python",
   "nbconvert_exporter": "python",
   "pygments_lexer": "ipython3",
   "version": "3.11.0 (main, Oct 25 2022, 14:13:24) [Clang 14.0.0 (clang-1400.0.29.202)]"
  },
  "rise": {
   "enable_chalkboard": true,
   "height": "90%",
   "scroll": true,
   "width": "90%"
  },
  "toc": {
   "base_numbering": 1,
   "nav_menu": {},
   "number_sections": false,
   "sideBar": true,
   "skip_h1_title": false,
   "title_cell": "Table of Contents",
   "title_sidebar": "Contents",
   "toc_cell": false,
   "toc_position": {},
   "toc_section_display": true,
   "toc_window_display": false
  },
  "vscode": {
   "interpreter": {
    "hash": "1a1af0ee75eeea9e2e1ee996c87e7a2b11a0bebd85af04bb136d915cefc0abce"
   }
  }
 },
 "nbformat": 4,
 "nbformat_minor": 5
}
