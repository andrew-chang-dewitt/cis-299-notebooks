{
 "cells": [
  {
   "cell_type": "markdown",
   "metadata": {
    "id": "y8T7s95P0j-w"
   },
   "source": [
    "## CIS 299, Spring 2023\n",
    "# Homework 1: Strings and Expressions(50 points)\n",
    "\n",
    "Please complete this notebook by filling in the cells provided. The solved homework should be uploaded to Canvas. Please do not put your answers in more than one file unless you want the TAs to miss some of your answers."
   ]
  },
  {
   "cell_type": "markdown",
   "metadata": {
    "id": "PWfyI6Qk0j-0"
   },
   "source": [
    "#### Deadline:\n",
    "\n",
    "This assignment is due on **Tuesday, Jan 28 at 11:59pm**. Late work will not be accepted unless you have made special arrangements.\n",
    "\n",
    "Directly sharing answers is not okay, but discussing problems with me is encouraged, and with other students is allowed. \n",
    "\n",
    "You should start early so that you have time to get help if you're stuck. "
   ]
  },
  {
   "cell_type": "code",
   "execution_count": 9,
   "metadata": {
    "id": "M-ftgmNO0j-0"
   },
   "outputs": [],
   "source": [
    "# Don't change this cell; just run it. \n",
    "\n",
    "import numpy as np\n",
    "import pandas as pd\n",
    "\n",
    "import warnings\n",
    "warnings.simplefilter('ignore', FutureWarning)\n",
    "\n",
    "%matplotlib inline\n",
    "import matplotlib.pyplot as plots\n",
    "plots.style.use('fivethirtyeight')"
   ]
  },
  {
   "cell_type": "markdown",
   "metadata": {
    "id": "ZuENAADw0j-2"
   },
   "source": [
    "## 1. Strings (14 points)"
   ]
  },
  {
   "cell_type": "markdown",
   "metadata": {
    "id": "CvfGvvOt0j-2"
   },
   "source": [
    "Run the following cell. Before running try to guess the answer. Explain why the output of that command is the integer you obtain."
   ]
  },
  {
   "cell_type": "code",
   "execution_count": 2,
   "metadata": {
    "id": "zYKmcQnH0j-2"
   },
   "outputs": [
    {
     "data": {
      "text/plain": [
       "6"
      ]
     },
     "execution_count": 2,
     "metadata": {},
     "output_type": "execute_result"
    }
   ],
   "source": [
    "len('U of C')"
   ]
  },
  {
   "cell_type": "markdown",
   "metadata": {
    "id": "XEF7dQqP0j-3"
   },
   "source": [
    "**Question 1. (2 pts)**  Explain why the above cell gives the answer it does.\n"
   ]
  },
  {
   "cell_type": "markdown",
   "metadata": {
    "id": "7jgNCAW00j-4"
   },
   "source": [
    "The string 'U of C' is 6 charachters long."
   ]
  },
  {
   "cell_type": "markdown",
   "metadata": {
    "id": "4WV5SrSE0j-4"
   },
   "source": [
    "**Question 2. (4 pts)** Use the *replace* function for strings to change the string *'machine learning'* into the string *'learning machine'*. You must do everything into one line of code and you can only replace one full word with a different full word. An example of using *replace* twice in one line of code is below. [Note: the output should be a string of the same length as the one you started with; no extra spaces etc.] "
   ]
  },
  {
   "cell_type": "code",
   "execution_count": null,
   "metadata": {
    "id": "t8Ona1kb0j-5"
   },
   "outputs": [],
   "source": [
    "# this cell illustrates the use of .replace \n",
    "'Today is a good day.'.replace('.','!')"
   ]
  },
  {
   "cell_type": "code",
   "execution_count": null,
   "metadata": {
    "id": "_RpPVVZV0j-5"
   },
   "outputs": [],
   "source": [
    "# this cell illustrates the use of .replace twice\n",
    "'on campus'.replace('on','happy').replace('campus','place')"
   ]
  },
  {
   "cell_type": "code",
   "execution_count": 6,
   "metadata": {
    "id": "yvp1YQGV0j-6"
   },
   "outputs": [
    {
     "data": {
      "text/plain": [
       "'learning machine'"
      ]
     },
     "execution_count": 6,
     "metadata": {},
     "output_type": "execute_result"
    }
   ],
   "source": [
    "#Q2 answer here\n",
    "'machine learning' \\\n",
    "    .replace('machine', 'temp') \\\n",
    "    .replace('learning', 'machine') \\\n",
    "    .replace('temp', 'learning')"
   ]
  },
  {
   "cell_type": "markdown",
   "metadata": {
    "id": "jnQxYK1p0j-6"
   },
   "source": [
    "Here is a short pem from Shel Silverstein's *Where the Sidewalk Ends*.\n",
    "Note that the string 'chicken' contains newline characters, which we would like to get rid of."
   ]
  },
  {
   "cell_type": "code",
   "execution_count": 8,
   "metadata": {
    "id": "djYd4RFf0j-6"
   },
   "outputs": [],
   "source": [
    "chicken = '''Oh I am a chicken who lives in an egg,\n",
    "But I will not hatch, I will not hatch.\n",
    "The hens they all cackle, the roosters all beg,\n",
    "But I will not hatch, I will not hatch.\n",
    "For I hear all the talk of pollution and war\n",
    "As the people all shout and the airplanes roar,\n",
    "So I’m staying in here where it’s safe and it’s warm,\n",
    "And I WILL NOT HATCH!'''"
   ]
  },
  {
   "cell_type": "code",
   "execution_count": null,
   "metadata": {
    "id": "f62Xr21z0j-7"
   },
   "outputs": [],
   "source": [
    "chicken"
   ]
  },
  {
   "cell_type": "markdown",
   "metadata": {
    "id": "PDA8aJqi0j-7"
   },
   "source": [
    "**Question 3. (2 pts)** Using `str.replace()`, create a string called `stanza_oneline` with all the newlines replaced by spaces."
   ]
  },
  {
   "cell_type": "code",
   "execution_count": 10,
   "metadata": {
    "id": "JpkufTl80j-8"
   },
   "outputs": [
    {
     "data": {
      "text/plain": [
       "'Oh I am a chicken who lives in an egg, But I will not hatch, I will not hatch. The hens they all cackle, the roosters all beg, But I will not hatch, I will not hatch. For I hear all the talk of pollution and war As the people all shout and the airplanes roar, So I’m staying in here where it’s safe and it’s warm, And I WILL NOT HATCH!'"
      ]
     },
     "execution_count": 10,
     "metadata": {},
     "output_type": "execute_result"
    }
   ],
   "source": [
    "#Q3 Answer \n",
    "stanza_oneline = chicken.replace('\\n', ' ')\n",
    "stanza_oneline"
   ]
  },
  {
   "cell_type": "markdown",
   "metadata": {
    "id": "CDdyeCXj0j-8"
   },
   "source": [
    "**Question 4 (4 pts).**  Write python expressions that count the number of words and the number of sentences in this paragraph.  (**Hint**:  Check your answer. If your expression gives the wrong answer, fix your expression.) "
   ]
  },
  {
   "cell_type": "code",
   "execution_count": 12,
   "metadata": {
    "id": "yhpyyD-D0j-8"
   },
   "outputs": [
    {
     "data": {
      "text/plain": [
       "72"
      ]
     },
     "execution_count": 12,
     "metadata": {},
     "output_type": "execute_result"
    }
   ],
   "source": [
    "#Q4 Answer part 1\n",
    "number_words = len(stanza_oneline.split(' '))\n",
    "number_words"
   ]
  },
  {
   "cell_type": "code",
   "execution_count": 22,
   "metadata": {
    "id": "WviPLPBU0j-8"
   },
   "outputs": [
    {
     "data": {
      "text/plain": [
       "3"
      ]
     },
     "execution_count": 22,
     "metadata": {},
     "output_type": "execute_result"
    }
   ],
   "source": [
    "#Q4 Answer part 2\n",
    "import re\n",
    "\n",
    "number_sentences = len([\n",
    "    # first split on periods or exclamation marks to get separate sentences\n",
    "    str for str in re.split('[\\.|\\!]', stanza_oneline)\n",
    "    # then filter out any empty strings (the result will \n",
    "    # include an empty string for all characters after `!`)\n",
    "    if not len(str) == 0])\n",
    "\n",
    "number_sentences"
   ]
  },
  {
   "cell_type": "markdown",
   "metadata": {
    "id": "gjuhtOGv0j-9"
   },
   "source": [
    "The *split* command breaks a string into a list of strings by a specified separator. Also recall that numbers in square braces access elements in a list \"slicing\" by number.  Below is an example of using the `split()` command, list slicing, and the string concatenation using + to execute the following: from the string *'learning is done by machine'* obtain the string '*machine learning'*."
   ]
  },
  {
   "cell_type": "code",
   "execution_count": 24,
   "metadata": {
    "id": "A4F0-has0j-9"
   },
   "outputs": [
    {
     "data": {
      "text/plain": [
       "'machine learning'"
      ]
     },
     "execution_count": 24,
     "metadata": {},
     "output_type": "execute_result"
    }
   ],
   "source": [
    "mystring = \"learning is done by machine\"\n",
    "words = mystring.split()\n",
    "mynewstring = words[4] + \" \" + words[0]\n",
    "mynewstring"
   ]
  },
  {
   "cell_type": "code",
   "execution_count": 25,
   "metadata": {
    "id": "-ENi8ttF0j-9"
   },
   "outputs": [],
   "source": [
    "mystring1 = 'Why do we have to do this? Is this going to be on the test?'\n"
   ]
  },
  {
   "cell_type": "markdown",
   "metadata": {
    "id": "M5odTrm50j-9"
   },
   "source": [
    "**Question 5. (2 pts)**  The string `mystring1` is introduced in the cell above. Build the string \"we have to do this\" from the parts of `mystring1.split()`, and remove the question marks as needed.  \n"
   ]
  },
  {
   "cell_type": "code",
   "execution_count": 42,
   "metadata": {
    "id": "Nxkiqhvm0j-9"
   },
   "outputs": [
    {
     "data": {
      "text/plain": [
       "'we have to do this'"
      ]
     },
     "execution_count": 42,
     "metadata": {},
     "output_type": "execute_result"
    }
   ],
   "source": [
    "# Q5 answer here\n",
    "import re\n",
    "\n",
    "words = re.split(\"[\\s|\\?]\", mystring1)\n",
    "beginning = words.index(\"we\")\n",
    "end = words.index(\"Is\")\n",
    "\" \".join(words[beginning : end]).strip()"
   ]
  },
  {
   "cell_type": "markdown",
   "metadata": {
    "id": "eI4LYrxY0j--"
   },
   "source": [
    "## 2. Names and Assignment Statements (8 points)"
   ]
  },
  {
   "cell_type": "markdown",
   "metadata": {
    "id": "bE2P4oNQ0j--"
   },
   "source": [
    "Python sometimes gives you difficult-to-get-used-to error messages. "
   ]
  },
  {
   "cell_type": "code",
   "execution_count": 2,
   "metadata": {
    "id": "RINElRiu0j--"
   },
   "outputs": [],
   "source": [
    "# assign four new variables with unsurprising values\n",
    "one, two, three, four = 1,2,3,4"
   ]
  },
  {
   "cell_type": "markdown",
   "metadata": {
    "id": "6wgLHP0d0j--"
   },
   "source": [
    "**Question 6. (1 pt)** \n",
    "What happens when we run this expression?  (You may want to check the python documentation under the heading \"Operator precedence\" https://docs.python.org/3/reference/expressions.html#operator-precedence for the order-of-operations hierarchy in python.)"
   ]
  },
  {
   "cell_type": "code",
   "execution_count": 4,
   "metadata": {
    "id": "2axOwEAr0j--"
   },
   "outputs": [],
   "source": [
    "result = 4 + two == 6"
   ]
  },
  {
   "cell_type": "markdown",
   "metadata": {
    "id": "bSCBxeKI0j--"
   },
   "source": [
    "Choose the best explanation of what this cell does and put your answer (a, b, c, or d) in the cell below.\n",
    "\n",
    "&emsp;a. Add 4 and two, store the result in 'result' and compare this to the value 6\n",
    "\n",
    "&emsp;b. Compare two and 6 (False), add 4, and store the sum in 'result'\n",
    "\n",
    "&emsp;c. Add 4 and two, compare to 6, and store the comparison in 'result'\n",
    "\n",
    "&emsp;d. Generates an error because 'result' is not defined."
   ]
  },
  {
   "cell_type": "markdown",
   "metadata": {
    "id": "GchMZ_hq0j-_"
   },
   "source": [
    "Answer to Q6 is: A"
   ]
  },
  {
   "cell_type": "markdown",
   "metadata": {
    "id": "8Pveys-R0j-_"
   },
   "source": [
    "**Question 7. (1 pt)** Choose the best explanation of what's wrong with the code in the cell below and put your answer (a, b, c, or d) in the cell below that.\n",
    "\n",
    "&emsp;a. The + operation only applies to numbers, not the word `six`.\n",
    "\n",
    "&emsp;b. `six` is not defined.\n",
    "\n",
    "&emsp;c. \"=\" is the assignment operator, not the test-for-equality operator, which is \"==\".\n",
    "\n",
    "&emsp;d. `+` is not an arithmetic operator."
   ]
  },
  {
   "cell_type": "code",
   "execution_count": 5,
   "metadata": {
    "id": "TRU4e60Y0j_A"
   },
   "outputs": [
    {
     "ename": "NameError",
     "evalue": "name 'six' is not defined",
     "output_type": "error",
     "traceback": [
      "\u001b[0;31m---------------------------------------------------------------------------\u001b[0m",
      "\u001b[0;31mNameError\u001b[0m                                 Traceback (most recent call last)",
      "Cell \u001b[0;32mIn[5], line 1\u001b[0m\n\u001b[0;32m----> 1\u001b[0m number \u001b[38;5;241m=\u001b[39m \u001b[38;5;241m2\u001b[39m \u001b[38;5;241m+\u001b[39m \u001b[43msix\u001b[49m \n",
      "\u001b[0;31mNameError\u001b[0m: name 'six' is not defined"
     ]
    }
   ],
   "source": [
    "number = 2 + six "
   ]
  },
  {
   "cell_type": "markdown",
   "metadata": {
    "id": "xRrTLN4J0j_A"
   },
   "source": [
    "Answer to Q7 is: B"
   ]
  },
  {
   "cell_type": "markdown",
   "metadata": {
    "id": "xHuaLtM10j_A"
   },
   "source": [
    "**Question 8. (6 pts) Mathematical Operations.**"
   ]
  },
  {
   "cell_type": "markdown",
   "metadata": {
    "id": "B5KLsYqO0j_A"
   },
   "source": [
    "**Part a:**  \n",
    "\n",
    "Compute the third root of 8 using code. (You might have to investigate online how to do this. Reminder, Google is your friend when investigating built in methods and functions in Python!)"
   ]
  },
  {
   "cell_type": "code",
   "execution_count": 6,
   "metadata": {
    "id": "K9Nj0N3b0j_A"
   },
   "outputs": [
    {
     "data": {
      "text/plain": [
       "2.0"
      ]
     },
     "execution_count": 6,
     "metadata": {},
     "output_type": "execute_result"
    }
   ],
   "source": [
    "#Q8_parta Answer code\n",
    "8**(1/3)"
   ]
  },
  {
   "cell_type": "markdown",
   "metadata": {
    "id": "x2uGdj8I0j_A"
   },
   "source": [
    "**Part b:** \n",
    "\n",
    "You can use NumPy's ```np.pi``` to use pi in any mathematical computation! Round pi to the 5th digit using code."
   ]
  },
  {
   "cell_type": "code",
   "execution_count": 10,
   "metadata": {
    "id": "qX5_vlp10j_A",
    "outputId": "69122d1c-60d1-4a23-cf4f-9457759e7427"
   },
   "outputs": [
    {
     "data": {
      "text/plain": [
       "3.14159"
      ]
     },
     "execution_count": 10,
     "metadata": {},
     "output_type": "execute_result"
    }
   ],
   "source": [
    "#Q8_partb Answer code\n",
    "round(np.pi, 5)"
   ]
  },
  {
   "cell_type": "markdown",
   "metadata": {
    "id": "wWW70Aws0j_B"
   },
   "source": [
    "**Part c:** \n",
    "\n",
    "Take Question 8 and fix the code so no error is given."
   ]
  },
  {
   "cell_type": "code",
   "execution_count": 18,
   "metadata": {
    "id": "Vb5qBXzU0j_B"
   },
   "outputs": [],
   "source": [
    "#Q8_partc Answer code\n",
    "nums = list(range(1,7))\n",
    "one, two, three, four, five, six = nums\n",
    "number = 2 + six"
   ]
  },
  {
   "cell_type": "markdown",
   "metadata": {},
   "source": [
    "## 3. Apollo 15 (8 points)\n",
    "\n",
    "On the Apollo 15 mission to the Moon, astronaut David Scott famously replicated Galileo's physics experiment in which he showed that gravity accelerates objects of different mass at the same rate. Because there is no air resistance for a falling object on the surface of the Moon, even two objects with very different masses and densities should fall at the same rate. David Scott compared a feather and a hammer.\n",
    "\n",
    "You can run the following cell to watch a video of the experiment."
   ]
  },
  {
   "cell_type": "code",
   "execution_count": 19,
   "metadata": {},
   "outputs": [
    {
     "data": {
      "image/jpeg": "[encoded data removed]",
      "text/html": [
       "\n",
       "        <iframe\n",
       "            width=\"400\"\n",
       "            height=\"300\"\n",
       "            src=\"https://www.youtube.com/embed/U7db6ZeLR5s\"\n",
       "            frameborder=\"0\"\n",
       "            allowfullscreen\n",
       "            \n",
       "        ></iframe>\n",
       "        "
      ],
      "text/plain": [
       "<IPython.lib.display.YouTubeVideo at 0x7f2626b0fee0>"
      ]
     },
     "execution_count": 19,
     "metadata": {},
     "output_type": "execute_result"
    }
   ],
   "source": [
    "from IPython.display import YouTubeVideo\n",
    "# The original URL is:\n",
    "#   https://www.youtube.com/watch?v=U7db6ZeLR5s\n",
    "YouTubeVideo(\"U7db6ZeLR5s\")"
   ]
  },
  {
   "cell_type": "markdown",
   "metadata": {},
   "source": [
    "Here's the transcript of the video:\n",
    "\n",
    "**167:22:06 Scott**: Well, in my left hand, I have a feather; in my right hand, a hammer. And I guess one of the reasons we got here today was because of a gentleman named Galileo, a long time ago, who made a rather significant discovery about falling objects in gravity fields. And we thought where would be a better place to confirm his findings than on the Moon. And so we thought we'd try it here for you. The feather happens to be, appropriately, a falcon feather for our Falcon. And I'll drop the two of them here and, hopefully, they'll hit the ground at the same time. \n",
    "\n",
    "**167:22:43 Scott**: How about that!\n",
    "\n",
    "**167:22:45 Allen**: How about that! (Applause in Houston)\n",
    "\n",
    "**167:22:46 Scott**: Which proves that Mr. Galileo was correct in his findings."
   ]
  },
  {
   "cell_type": "markdown",
   "metadata": {},
   "source": [
    "**Newton's Law.** Using this footage, we can also attempt to confirm another famous bit of physics: Newton's law of universal gravitation. Newton's laws predict that any object dropped near the surface of the Moon should fall\n",
    "\n",
    "$$\\frac{1}{2} G \\frac{M}{R^2} t^2 \\text{ meters}$$\n",
    "\n",
    "after $t$ seconds, where $G$ is a universal constant, $M$ is the moon's mass in kilograms, and $R$ is the moon's radius in meters.  So if we know $G$, $M$, and $R$, then Newton's laws let us predict how far an object will fall over any amount of time.\n",
    "\n",
    "To verify the accuracy of this law, we will calculate the difference between the predicted distance the hammer drops and the actual distance.  (If they are different, it might be because Newton's laws are wrong, or because our measurements are imprecise, or because there are other factors affecting the hammer for which we haven't accounted.)\n",
    "\n",
    "Someone studied the video and estimated that the hammer was dropped 113 cm from the surface. Counting frames in the video, the hammer falls for 1.2 seconds (36 frames)."
   ]
  },
  {
   "cell_type": "markdown",
   "metadata": {},
   "source": [
    "**Question 9. (4 pts)** Complete the code in the next cell to fill in the *data* from the experiment."
   ]
  },
  {
   "cell_type": "code",
   "execution_count": 28,
   "metadata": {},
   "outputs": [],
   "source": [
    "# The duration of the fall in the experiment, in seconds.\n",
    "# Fill this in.\n",
    "time = 1.2\n",
    "\n",
    "# The estimated distance the hammer actually fell, in meters.\n",
    "# Fill this in.\n",
    "estimated_distance_m = 113 / 100"
   ]
  },
  {
   "cell_type": "markdown",
   "metadata": {},
   "source": [
    "**Question 10. (4 pts)** Compute the distance the hammer should have fallen over the duration of the fall, in meters, according to Newton's\n",
    "law of gravity.  The text above describes the formula for this distance given by Newton's law. Then compute the difference between the predicted fall distance and the distance we actually measured from Question 9."
   ]
  },
  {
   "cell_type": "code",
   "execution_count": 30,
   "metadata": {},
   "outputs": [
    {
     "data": {
      "text/plain": [
       "2029826.2399453865"
      ]
     },
     "execution_count": 30,
     "metadata": {},
     "output_type": "execute_result"
    }
   ],
   "source": [
    "# First, we've written down the values of the 3 universal\n",
    "# constants that show up in Newton's formula.\n",
    "\n",
    "# G, the universal constant measuring the strength of gravity.\n",
    "gravity_constant = 6.674 * 10**-11\n",
    "\n",
    "# M, the moon's mass, in kilograms.\n",
    "moon_mass_kg = 7.34767309 * 10**22\n",
    "\n",
    "# R, the radius of the moon, in meters.\n",
    "moon_radius_m = 1.737 * 10**6\n",
    "\n",
    "# **YOU FILL THIS PART IN.**\n",
    "predicted_distance_m = (1/2)*G*(M/R)*(time**2)\n",
    "\n",
    "# Now compute the difference between the predicted\n",
    "# fall distance and the distance we actually measured.\n",
    "difference = predicted_distance_m - estimated_distance_m\n",
    "difference"
   ]
  }
 ],
 "metadata": {
  "colab": {
   "provenance": []
  },
  "kernelspec": {
   "display_name": "Python 3 (ipykernel)",
   "language": "python",
   "name": "python3"
  },
  "language_info": {
   "codemirror_mode": {
    "name": "ipython",
    "version": 3
   },
   "file_extension": ".py",
   "mimetype": "text/x-python",
   "name": "python",
   "nbconvert_exporter": "python",
   "pygments_lexer": "ipython3",
   "version": "3.10.9"
  },
  "vscode": {
   "interpreter": {
    "hash": "1a1af0ee75eeea9e2e1ee996c87e7a2b11a0bebd85af04bb136d915cefc0abce"
   }
  }
 },
 "nbformat": 4,
 "nbformat_minor": 1
}
